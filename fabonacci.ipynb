{
 "cells": [
  {
   "cell_type": "code",
   "execution_count": 4,
   "id": "8f260e92-63a8-4aed-9d44-0dad638e1077",
   "metadata": {},
   "outputs": [
    {
     "name": "stdin",
     "output_type": "stream",
     "text": [
      "enter terms: 10\n"
     ]
    },
    {
     "name": "stdout",
     "output_type": "stream",
     "text": [
      "0 1 1 2 3 5 8 13 21 34 "
     ]
    }
   ],
   "source": [
    "#fabonacci 1 1 2 3 5 8 13 21 34 55\n",
    "def fib(n):\n",
    "    if n<=1:\n",
    "        return n\n",
    "    else:\n",
    "        return fib(n-1)+fib(n-2)\n",
    "num=int(input(\"enter terms:\"))\n",
    "for i in range(num):\n",
    "    print(fib(i),end=' ')\n",
    "    "
   ]
  },
  {
   "cell_type": "code",
   "execution_count": 20,
   "id": "93bb822c-14a2-4692-a810-d7b1247a9d87",
   "metadata": {},
   "outputs": [
    {
     "name": "stdin",
     "output_type": "stream",
     "text": [
      "enter a 4 digit numbeer: 1024\n"
     ]
    },
    {
     "name": "stdout",
     "output_type": "stream",
     "text": [
      "sum of digits: 7\n"
     ]
    }
   ],
   "source": [
    "#indirect recursion (sum of 4 digits)\n",
    "def dsum(n):\n",
    "    if n==0:\n",
    "        return 0\n",
    "    return n%10 + temp(n//10)\n",
    "def temp(n):\n",
    "    return dsum(n)\n",
    "num=int(input(\"enter a 4 digit number:\"))\n",
    "print(\"sum of digits:\",dsum(num))"
   ]
  },
  {
   "cell_type": "code",
   "execution_count": 28,
   "id": "33a75440-ad21-4f89-b162-3ab081b3b2f2",
   "metadata": {},
   "outputs": [
    {
     "name": "stdin",
     "output_type": "stream",
     "text": [
      "enter a number: 5\n"
     ]
    },
    {
     "name": "stdout",
     "output_type": "stream",
     "text": [
      "5 is odd\n"
     ]
    }
   ],
   "source": [
    "##finding odd and even using recursion without using modulus\n",
    "def one(n):\n",
    "    if n==0:\n",
    "        return True\n",
    "    else:\n",
    "        return two(n-1)\n",
    "def two(n):\n",
    "    if n==0:\n",
    "        return False\n",
    "    else:\n",
    "        return one(n-1)\n",
    "num=int(input('enter a number:'))\n",
    "if one(num):\n",
    "    print(num,\"is even\")\n",
    "else:\n",
    "    print(num,\"is odd\")\n",
    "    \n",
    "\n"
   ]
  },
  {
   "cell_type": "code",
   "execution_count": 36,
   "id": "51ca1773-9bbf-466e-b8e4-db21a7764042",
   "metadata": {},
   "outputs": [
    {
     "name": "stdin",
     "output_type": "stream",
     "text": [
      "enter a number: 10\n"
     ]
    },
    {
     "name": "stdout",
     "output_type": "stream",
     "text": [
      "Radhika 10\n",
      "katta 9\n",
      "Radhika 8\n",
      "katta 7\n",
      "Radhika 6\n",
      "katta 5\n",
      "Radhika 4\n",
      "katta 3\n",
      "Radhika 2\n",
      "katta 1\n"
     ]
    }
   ],
   "source": [
    "def A(n):\n",
    "    if n<=0:\n",
    "        return \n",
    "    print(\"Radhika\",n)\n",
    "    B(n-1)\n",
    "def  B(n):\n",
    "    if n<=0:\n",
    "        return \n",
    "    print(\"katta\",n)\n",
    "    A(n-1)\n",
    "num=int(input(\"enter a number:\"))\n",
    "A(num)"
   ]
  },
  {
   "cell_type": "code",
   "execution_count": 46,
   "id": "7b42a985-246e-4f31-8245-27cb04b6af3d",
   "metadata": {},
   "outputs": [
    {
     "name": "stdin",
     "output_type": "stream",
     "text": [
      "enter starting number: 4\n"
     ]
    },
    {
     "name": "stdout",
     "output_type": "stream",
     "text": [
      " \n",
      " player A's turn.current number4\n"
     ]
    },
    {
     "name": "stdin",
     "output_type": "stream",
     "text": [
      "player A,subtract 1 or 2: 2\n"
     ]
    },
    {
     "name": "stdout",
     "output_type": "stream",
     "text": [
      " \n",
      " player B's turn.current number2\n"
     ]
    }
   ],
   "source": [
    "# sample game program  using indirect recursion\n",
    "def player_A(n):\n",
    "    if n<=0:\n",
    "        print(\"player A recached 0!1 player A loses🤦‍♂️\")\n",
    "        return \n",
    "    print(f\" \\n player A's turn.current number{n}\")\n",
    "    move =int(input(\"player A,subtract 1 or 2:\"))\n",
    "    while move not in [1,2]:\n",
    "        move=int(input(\"player A,subtract 1 or 2:\"))\n",
    "    player_B(n-move)\n",
    "def player_B(n):\n",
    "    if n<=0:\n",
    "        print(\"player B reached 0!! player b loses🤦‍♂️\")\n",
    "        return \n",
    "    print(f\" \\n player B's turn.current number{n}\")\n",
    "    return \n",
    "    move=int(input(\"player B,subtract 1 or 2:\"))\n",
    "    while move not in [1,2]:\n",
    "        move=int(input(\"player B,subtract 1 or 2:\"))\n",
    "    player_A(n-move)\n",
    "start=int(input(\"enter starting number:\"))\n",
    "player_A(start)"
   ]
  },
  {
   "cell_type": "code",
   "execution_count": null,
   "id": "7a038175-56e4-42c6-affd-c0ce2b9b7af2",
   "metadata": {},
   "outputs": [],
   "source": []
  }
 ],
 "metadata": {
  "kernelspec": {
   "display_name": "Python 3 (ipykernel)",
   "language": "python",
   "name": "python3"
  },
  "language_info": {
   "codemirror_mode": {
    "name": "ipython",
    "version": 3
   },
   "file_extension": ".py",
   "mimetype": "text/x-python",
   "name": "python",
   "nbconvert_exporter": "python",
   "pygments_lexer": "ipython3",
   "version": "3.12.7"
  }
 },
 "nbformat": 4,
 "nbformat_minor": 5
}
